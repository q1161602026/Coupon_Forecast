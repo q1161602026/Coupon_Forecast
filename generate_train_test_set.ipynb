{
 "cells": [
  {
   "cell_type": "code",
   "execution_count": 1,
   "metadata": {
    "collapsed": false
   },
   "outputs": [
    {
     "name": "stdout",
     "output_type": "stream",
     "text": [
      "第1个样本提取\n",
      "第2个样本提取\n",
      "第3个样本提取\n"
     ]
    }
   ],
   "source": [
    "from config import *\n",
    "from feature_extract import *\n",
    "import numpy as np\n",
    "import pandas as pd\n",
    "from datetime import date\n",
    "\n",
    "def generate_train_test_set(train_or_test_path,num,train=True):\n",
    "\tprint '第{0}个样本提取'.format(num)\n",
    "\tuserpath = train_or_test_path.get('userpath')\n",
    "\tmerchantpath = train_or_test_path.get('merchantpath')\n",
    "\tcouponpath = train_or_test_path.get('couponpath')\n",
    "\tuser_merchantpath = train_or_test_path.get('user_merchantpath')\n",
    "\tother_featurepath = train_or_test_path.get('other_featurepath')\n",
    "\n",
    "\tuser = pd.read_csv(userpath)\n",
    "\tmerchant = pd.read_csv(merchantpath)\n",
    "\tcoupon = pd.read_csv(couponpath)\n",
    "\tuser_merchant = pd.read_csv(user_merchantpath)\n",
    "\tother_feature = pd.read_csv(other_featurepath)\n",
    "    \n",
    "\tdataset = pd.merge(other_feature,user,on=['User_id'],how='left')\n",
    "\tdataset = pd.merge(dataset,merchant,on=['Merchant_id'],how='left')\n",
    "\tdataset = pd.merge(dataset,coupon,on=['Coupon_id'],how='left')\n",
    "\tdataset = pd.merge(dataset,user_merchant,on=['User_id','Merchant_id'],how='left')\n",
    "\tdataset.drop_duplicates(inplace=True)\n",
    "\tdataset['Date_received']=dataset['Date_received'].astype('str')\n",
    "\tif train==True:\n",
    "\t\tdataset.loc[:,'label'] = dataset.apply(get_label,axis=1)\n",
    "\t\tdataset.drop(['User_id','Merchant_id','Coupon_id','Date','Date_received'],axis=1,inplace=True)\n",
    "\t# dataset.drop(['Merchant_id','Date','Date_received','Coupon_id'],axis=1,inplace=True)\n",
    "\tdataset = dataset.replace('null',np.nan)\n",
    "\tdataset.to_csv('data/dataset{0}.csv'.format(num),index=None)\n",
    "    \n",
    "    \n",
    "generate_train_test_set(train_path1,num=1)\n",
    "generate_train_test_set(train_path2,num=2)\n",
    "generate_train_test_set(test_path,num=3,train=False)"
   ]
  },
  {
   "cell_type": "code",
   "execution_count": 2,
   "metadata": {
    "collapsed": false
   },
   "outputs": [
    {
     "name": "stdout",
     "output_type": "stream",
     "text": [
      "<class 'pandas.core.frame.DataFrame'>\n",
      "RangeIndex: 112803 entries, 0 to 112802\n",
      "Data columns (total 42 columns):\n",
      "User_id                                                     112803 non-null int64\n",
      "Merchant_id                                                 112803 non-null int64\n",
      "Coupon_id                                                   112803 non-null int64\n",
      "Distance                                                    100812 non-null float64\n",
      "Date_received                                               112803 non-null int64\n",
      "day_of_week                                                 112803 non-null int64\n",
      "day_of_month                                                112803 non-null int64\n",
      "is_weekend                                                  112803 non-null int64\n",
      "user_this_month_all_coupon_count                            112803 non-null int64\n",
      "user_this_day_all_coupon_count                              112803 non-null int64\n",
      "user_received_count                                         100478 non-null float64\n",
      "user_notuse_coupon_count                                    100478 non-null float64\n",
      "user_buy_use_coupon_count                                   100478 non-null float64\n",
      "user_min_distance                                           15580 non-null float64\n",
      "user_max_distance                                           15580 non-null float64\n",
      "user_mean_distance                                          15580 non-null float64\n",
      "user_merchant_count                                         65224 non-null float64\n",
      "avg_user_date_datereceived_gap                              19458 non-null float64\n",
      "min_user_date_datereceived_gap                              19458 non-null float64\n",
      "max_user_date_datereceived_gap                              19458 non-null float64\n",
      "user_buy_use_coupon_rate                                    100478 non-null float64\n",
      "user_coupon_transfer_rate                                   100478 non-null float64\n",
      "merchant_sales_count                                        112748 non-null float64\n",
      "merchant_coupon_count                                       112798 non-null float64\n",
      "merchant_coupon_used_count                                  112798 non-null float64\n",
      "merchant_coupon_notused_count                               112798 non-null float64\n",
      "merchant_min_distance                                       107961 non-null float64\n",
      "merchant_max_distance                                       107961 non-null float64\n",
      "merchant_mean_distance                                      107961 non-null float64\n",
      "avg_merchant_date_datereceived_gap                          109309 non-null float64\n",
      "min_merchant_date_datereceived_gap                          109309 non-null float64\n",
      "max_merchant_date_datereceived_gap                          109309 non-null float64\n",
      "merchant_coupon_used_rate                                   112798 non-null float64\n",
      "coupon_uesd_sales_rate                                      112798 non-null float64\n",
      "Discount_rate                                               112803 non-null float64\n",
      "discount_man                                                110245 non-null float64\n",
      "discount_jian                                               110245 non-null float64\n",
      "is_man_jian                                                 112803 non-null int64\n",
      "user_merchant_received_count                                37494 non-null float64\n",
      "user_merchant_buy_use_coupon_count                          37494 non-null float64\n",
      "user_merchant_buy_use_coupon_rate                           37494 non-null float64\n",
      "user_merchant_buy_use_coupon_of_user_buy_use_coupon_rate    37494 non-null float64\n",
      "dtypes: float64(32), int64(10)\n",
      "memory usage: 36.1 MB\n"
     ]
    }
   ],
   "source": [
    "temp = pd.read_csv('data/dataset3.csv')\n",
    "temp.info()"
   ]
  },
  {
   "cell_type": "code",
   "execution_count": null,
   "metadata": {
    "collapsed": true
   },
   "outputs": [],
   "source": []
  }
 ],
 "metadata": {
  "anaconda-cloud": {},
  "kernelspec": {
   "display_name": "Python [default]",
   "language": "python",
   "name": "python2"
  },
  "language_info": {
   "codemirror_mode": {
    "name": "ipython",
    "version": 2
   },
   "file_extension": ".py",
   "mimetype": "text/x-python",
   "name": "python",
   "nbconvert_exporter": "python",
   "pygments_lexer": "ipython2",
   "version": "2.7.12"
  }
 },
 "nbformat": 4,
 "nbformat_minor": 0
}
