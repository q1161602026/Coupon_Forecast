{
 "cells": [
  {
   "cell_type": "code",
   "execution_count": 1,
   "metadata": {
    "collapsed": false
   },
   "outputs": [
    {
     "name": "stdout",
     "output_type": "stream",
     "text": [
      "第1个样本提取\n",
      "(137167, 20)\n",
      "(137167, 54)\n",
      "(136301, 54)\n",
      "第2个样本提取\n",
      "(258446, 20)\n",
      "(258446, 54)\n",
      "(257126, 54)\n",
      "第3个样本提取\n",
      "(113640, 19)\n",
      "(113640, 53)\n",
      "(112803, 53)\n"
     ]
    }
   ],
   "source": [
    "from config import *\n",
    "from feature_extract import *\n",
    "import numpy as np\n",
    "import pandas as pd\n",
    "from datetime import date\n",
    "\n",
    "def generate_train_test_set(train_or_test_path,num,train=True):\n",
    "\tprint '第{0}个样本提取'.format(num)\n",
    "\tuserpath = train_or_test_path.get('userpath')\n",
    "\tmerchantpath = train_or_test_path.get('merchantpath')\n",
    "\t# couponpath = train_or_test_path.get('couponpath')\n",
    "\tuser_merchantpath = train_or_test_path.get('user_merchantpath')\n",
    "\tother_featurepath = train_or_test_path.get('other_featurepath')\n",
    "\n",
    "\tuser = pd.read_csv(userpath)\n",
    "\tmerchant = pd.read_csv(merchantpath)\n",
    "\t# coupon = pd.read_csv(couponpath)\n",
    "\tuser_merchant = pd.read_csv(user_merchantpath)\n",
    "\tother_feature = pd.read_csv(other_featurepath)\n",
    "\n",
    "\tprint other_feature.shape\n",
    "\tdataset = pd.merge(other_feature,user,on=['User_id'],how='left')\n",
    "\tdataset = pd.merge(dataset,merchant,on=['Merchant_id'],how='left')\n",
    "\tdataset = pd.merge(dataset,user_merchant,on=['User_id','Merchant_id'],how='left')\n",
    "\tprint dataset.shape\n",
    "\n",
    "\tdataset.drop_duplicates(inplace=True)\n",
    "\tprint dataset.shape\n",
    "\n",
    "# \tdataset['user_buy_count']=dataset['user_buy_count'].replace(np.nan,0)\n",
    "# \tdataset['user_buy_count']=dataset['user_buy_count'].astype('int')\n",
    "    \n",
    "# \tdataset['user_received_count']=dataset['user_received_count'].replace(np.nan,0)\n",
    "# \tdataset['user_received_count']=dataset['user_received_count'].astype('int')\n",
    "\n",
    "# \tdataset['user_buy_use_coupon_count']=dataset['user_buy_use_coupon_count'].replace(np.nan,0)\n",
    "# \tdataset['user_buy_use_coupon_count']=dataset['user_buy_use_coupon_count'].astype('int')\n",
    "\n",
    "# \tdataset['merchant_sales_count']=dataset['merchant_sales_count'].replace(np.nan,0)\n",
    "# \tdataset['merchant_sales_count']=dataset['merchant_sales_count'].astype('int')\n",
    "    \n",
    "# \tdataset['merchant_coupon_count']=dataset['merchant_coupon_count'].replace(np.nan,0)\n",
    "# \tdataset['merchant_coupon_count']=dataset['merchant_coupon_count'].astype('int')\n",
    "\n",
    "# \tdataset['merchant_coupon_used_count']=dataset['merchant_coupon_used_count'].replace(np.nan,0)\n",
    "# \tdataset['merchant_coupon_used_count']=dataset['merchant_coupon_used_count'].astype('int')\n",
    "    \n",
    "# \tdataset['user_merchant_count']=dataset['user_merchant_count'].replace(np.nan,0)\n",
    "# \tdataset['user_merchant_count']=dataset['user_merchant_count'].astype('int')\n",
    "\n",
    "# \tdataset['user_merchant_received_count']=dataset['user_merchant_received_count'].replace(np.nan,0)\n",
    "# \tdataset['user_merchant_received_count']=dataset['user_merchant_received_count'].astype('int')\n",
    "    \n",
    "# \tdataset['user_merchant_buy_use_coupon_count']=dataset['user_merchant_buy_use_coupon_count'].replace(np.nan,0)\n",
    "# \tdataset['user_merchant_buy_use_coupon_count']=dataset['user_merchant_buy_use_coupon_count'].astype('int')\n",
    "\n",
    "# \tdataset['user_merchants_count']=dataset['user_merchants_count'].replace(np.nan,0)\n",
    "# \tdataset['user_merchants_count']=dataset['user_merchants_count'].astype('int')\n",
    "    \n",
    "# \tdataset['user_buy_use_coupon_rate']=dataset['user_buy_use_coupon_rate'].replace(np.nan,0)\n",
    "# \tdataset['user_merchant_buy_use_coupon_rate']=dataset['user_merchant_buy_use_coupon_rate'].replace(np.nan,0)\n",
    "# \tdataset['user_merchant_buy_use_coupon_of_user_buy_use_coupon_rate']=dataset['user_merchant_buy_use_coupon_of_user_buy_use_coupon_rate'].replace(np.nan,0)\n",
    "# \tdataset['merchant_coupon_used_rate']=dataset['merchant_coupon_used_rate'].replace(np.nan,0)\n",
    "# \tdataset['coupon_uesd_sales_rate']=dataset['coupon_uesd_sales_rate'].replace(np.nan,0)\n",
    "\n",
    "    \n",
    "\tif train==True:\n",
    "\t\tdataset.loc[:,'label'] = dataset.apply(get_label,axis=1)\n",
    "\t\tdataset.drop(['User_id','Merchant_id','Discount_rate','Coupon_id','Date','Date_received'],axis=1,inplace=True)\n",
    "\t# dataset.drop(['Merchant_id','Date','Date_received','Coupon_id'],axis=1,inplace=True)\n",
    "\tdataset = dataset.replace('null',np.nan)\n",
    "\tdataset.to_csv('data/dataset{0}.csv'.format(num),index=None)\n",
    "    \n",
    "generate_train_test_set(train_path1,num=1)\n",
    "generate_train_test_set(train_path2,num=2)\n",
    "generate_train_test_set(test_path,num=3,train=False)"
   ]
  },
  {
   "cell_type": "code",
   "execution_count": 2,
   "metadata": {
    "collapsed": true
   },
   "outputs": [],
   "source": [
    "train1 = pd.read_csv('data/dataset1.csv')\n",
    "train2 = pd.read_csv('data/dataset2.csv')\n",
    "train = pd.concat([train1,train2],axis=0)\n",
    "train.to_csv('data/all_train.csv',index=None)\n",
    "test = pd.read_csv('data/dataset3.csv')\n",
    "test.to_csv('data/all_test.csv',index=None)"
   ]
  },
  {
   "cell_type": "code",
   "execution_count": 4,
   "metadata": {
    "collapsed": false
   },
   "outputs": [
    {
     "name": "stdout",
     "output_type": "stream",
     "text": [
      "<class 'pandas.core.frame.DataFrame'>\n",
      "RangeIndex: 112803 entries, 0 to 112802\n",
      "Data columns (total 53 columns):\n",
      "User_id                                       112803 non-null int64\n",
      "Merchant_id                                   112803 non-null int64\n",
      "Coupon_id                                     112803 non-null int64\n",
      "Discount_rate                                 112803 non-null object\n",
      "Distance                                      100812 non-null float64\n",
      "Date_received                                 112803 non-null int64\n",
      "user_this_month_all_coupon_count              112803 non-null int64\n",
      "user_this_day_all_coupon_count                112803 non-null int64\n",
      "user_this_month_same_coupon_count             112803 non-null int64\n",
      "user_this_day_same_coupon_count               112803 non-null int64\n",
      "day_of_week                                   112803 non-null int64\n",
      "is_weekend                                    112803 non-null int64\n",
      "day_of_month                                  112803 non-null int64\n",
      "user_receive_coupon_first                     112803 non-null int64\n",
      "user_receive_coupon_last                      112803 non-null int64\n",
      "discount_man                                  110245 non-null float64\n",
      "discount_jian                                 110245 non-null float64\n",
      "is_man_jian                                   112803 non-null int64\n",
      "discount_per                                  112803 non-null float64\n",
      "user_buy_count                                100478 non-null float64\n",
      "user_received_count                           100478 non-null float64\n",
      "user_buy_use_coupon_count                     100478 non-null float64\n",
      "user_min_distance                             17914 non-null float64\n",
      "user_max_distance                             17914 non-null float64\n",
      "user_mean_distance                            17914 non-null float64\n",
      "user_median_distance                          17914 non-null float64\n",
      "user_merchants_count                          100478 non-null float64\n",
      "user_mean_datereceived_days                   19458 non-null float64\n",
      "user_min_datereceived_days                    19458 non-null float64\n",
      "user_max_datereceived_days                    19458 non-null float64\n",
      "user_median_datereceived_days                 19458 non-null float64\n",
      "user_buy_use_coupon_rate                      65224 non-null float64\n",
      "user_use_coupon_rate                          91827 non-null float64\n",
      "merchant_sales_count                          112798 non-null float64\n",
      "merchant_coupon_count                         112798 non-null float64\n",
      "merchant_coupon_used_count                    112798 non-null float64\n",
      "merchant_min_distance                         108640 non-null float64\n",
      "merchant_max_distance                         108640 non-null float64\n",
      "merchant_mean_distance                        108640 non-null float64\n",
      "merchant_median_distance                      108640 non-null float64\n",
      "mean_merchant_datereceived_days               109309 non-null float64\n",
      "min_merchant_datereceived_days                109309 non-null float64\n",
      "max_merchant_datereceived_days                109309 non-null float64\n",
      "median_merchant_datereceived_days             109309 non-null float64\n",
      "merchant_coupon_used_rate                     109309 non-null float64\n",
      "coupon_uesd_sales_rate                        109309 non-null float64\n",
      "user_merchant_trade_count                     23187 non-null float64\n",
      "user_merchant_received_count                  37494 non-null float64\n",
      "user_merchant_buy_use_coupon_count            37494 non-null float64\n",
      "user_merchant_count                           37494 non-null float64\n",
      "user_merchant_buy_use_coupon_received_rate    7617 non-null float64\n",
      "user_merchant_buy_use_coupon_trade_rate       7617 non-null float64\n",
      "user_merchant_trade_rate                      23187 non-null float64\n",
      "dtypes: float64(38), int64(14), object(1)\n",
      "memory usage: 45.6+ MB\n"
     ]
    }
   ],
   "source": [
    "temp = pd.read_csv('data/dataset3.csv')\n",
    "temp.info()"
   ]
  },
  {
   "cell_type": "code",
   "execution_count": null,
   "metadata": {
    "collapsed": true
   },
   "outputs": [],
   "source": []
  }
 ],
 "metadata": {
  "anaconda-cloud": {},
  "kernelspec": {
   "display_name": "Python [default]",
   "language": "python",
   "name": "python2"
  },
  "language_info": {
   "codemirror_mode": {
    "name": "ipython",
    "version": 2
   },
   "file_extension": ".py",
   "mimetype": "text/x-python",
   "name": "python",
   "nbconvert_exporter": "python",
   "pygments_lexer": "ipython2",
   "version": "2.7.12"
  }
 },
 "nbformat": 4,
 "nbformat_minor": 0
}
