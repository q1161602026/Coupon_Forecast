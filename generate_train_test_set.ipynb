{
 "cells": [
  {
   "cell_type": "code",
   "execution_count": 1,
   "metadata": {
    "collapsed": false
   },
   "outputs": [
    {
     "name": "stdout",
     "output_type": "stream",
     "text": [
      "第1个样本提取\n",
      "第2个样本提取\n",
      "第3个样本提取\n"
     ]
    }
   ],
   "source": [
    "from config import *\n",
    "from feature_extract import *\n",
    "import numpy as np\n",
    "import pandas as pd\n",
    "from datetime import date\n",
    "\n",
    "def generate_train_test_set(train_or_test_path,num,train=True):\n",
    "\tprint '第{0}个样本提取'.format(num)\n",
    "\tuserpath = train_or_test_path.get('userpath')\n",
    "\tmerchantpath = train_or_test_path.get('merchantpath')\n",
    "\tcouponpath = train_or_test_path.get('couponpath')\n",
    "\tuser_merchantpath = train_or_test_path.get('user_merchantpath')\n",
    "\tother_featurepath = train_or_test_path.get('other_featurepath')\n",
    "\n",
    "\tuser = pd.read_csv(userpath)\n",
    "\tmerchant = pd.read_csv(merchantpath)\n",
    "\tcoupon = pd.read_csv(couponpath)\n",
    "\tuser_merchant = pd.read_csv(user_merchantpath)\n",
    "\tother_feature = pd.read_csv(other_featurepath)\n",
    "    \n",
    "\tdataset = pd.merge(other_feature,user,on=['User_id'],how='left')\n",
    "\tdataset = pd.merge(dataset,merchant,on=['Merchant_id'],how='left')\n",
    "\tdataset = pd.merge(dataset,coupon,on=['Coupon_id'],how='left')\n",
    "\tdataset = pd.merge(dataset,user_merchant,on=['User_id','Merchant_id'],how='left')\n",
    "\tdataset.drop_duplicates(inplace=True)\n",
    "\n",
    "    \n",
    "\tdataset['user_buy_count']=dataset['user_buy_count'].replace(np.nan,0)\n",
    "\tdataset['user_buy_count']=dataset['user_buy_count'].astype('int')\n",
    "    \n",
    "\tdataset['user_received_count']=dataset['user_received_count'].replace(np.nan,0)\n",
    "\tdataset['user_received_count']=dataset['user_received_count'].astype('int')\n",
    "\n",
    "\tdataset['user_buy_use_coupon_count']=dataset['user_buy_use_coupon_count'].replace(np.nan,0)\n",
    "\tdataset['user_buy_use_coupon_count']=dataset['user_buy_use_coupon_count'].astype('int')\n",
    "\n",
    "\tdataset['merchant_sales_count']=dataset['merchant_sales_count'].replace(np.nan,0)\n",
    "\tdataset['merchant_sales_count']=dataset['merchant_sales_count'].astype('int')\n",
    "    \n",
    "\tdataset['merchant_coupon_count']=dataset['merchant_coupon_count'].replace(np.nan,0)\n",
    "\tdataset['merchant_coupon_count']=dataset['merchant_coupon_count'].astype('int')\n",
    "\n",
    "\tdataset['merchant_coupon_used_count']=dataset['merchant_coupon_used_count'].replace(np.nan,0)\n",
    "\tdataset['merchant_coupon_used_count']=dataset['merchant_coupon_used_count'].astype('int')\n",
    "    \n",
    "\tdataset['user_merchant_count']=dataset['user_merchant_count'].replace(np.nan,0)\n",
    "\tdataset['user_merchant_count']=dataset['user_merchant_count'].astype('int')\n",
    "\n",
    "\tdataset['user_merchant_received_count']=dataset['user_merchant_received_count'].replace(np.nan,0)\n",
    "\tdataset['user_merchant_received_count']=dataset['user_merchant_received_count'].astype('int')\n",
    "    \n",
    "\tdataset['user_merchant_buy_use_coupon_count']=dataset['user_merchant_buy_use_coupon_count'].replace(np.nan,0)\n",
    "\tdataset['user_merchant_buy_use_coupon_count']=dataset['user_merchant_buy_use_coupon_count'].astype('int')\n",
    "\n",
    "\tdataset['user_merchants_count']=dataset['user_merchants_count'].replace(np.nan,0)\n",
    "\tdataset['user_merchants_count']=dataset['user_merchants_count'].astype('int')\n",
    "    \n",
    "\tdataset['user_buy_use_coupon_rate']=dataset['user_buy_use_coupon_rate'].replace(np.nan,0)\n",
    "\tdataset['user_merchant_buy_use_coupon_rate']=dataset['user_merchant_buy_use_coupon_rate'].replace(np.nan,0)\n",
    "\tdataset['user_merchant_buy_use_coupon_of_user_buy_use_coupon_rate']=dataset['user_merchant_buy_use_coupon_of_user_buy_use_coupon_rate'].replace(np.nan,0)\n",
    "\tdataset['merchant_coupon_used_rate']=dataset['merchant_coupon_used_rate'].replace(np.nan,0)\n",
    "\tdataset['coupon_uesd_sales_rate']=dataset['coupon_uesd_sales_rate'].replace(np.nan,0)\n",
    "\n",
    "    \n",
    "\tif train==True:\n",
    "\t\tdataset.loc[:,'label'] = dataset.apply(get_label,axis=1)\n",
    "\t\tdataset.drop(['User_id','Merchant_id','Coupon_id','Date','Date_received'],axis=1,inplace=True)\n",
    "\t# dataset.drop(['Merchant_id','Date','Date_received','Coupon_id'],axis=1,inplace=True)\n",
    "\tdataset = dataset.replace('null',np.nan)\n",
    "\tdataset.to_csv('data/dataset{0}.csv'.format(num),index=None)\n",
    "    \n",
    "generate_train_test_set(train_path1,num=1)\n",
    "generate_train_test_set(train_path2,num=2)\n",
    "generate_train_test_set(test_path,num=3,train=False)"
   ]
  },
  {
   "cell_type": "code",
   "execution_count": 7,
   "metadata": {
    "collapsed": false
   },
   "outputs": [],
   "source": [
    "# temp = pd.read_csv('data/dataset1.csv')\n",
    "# temp.info()"
   ]
  },
  {
   "cell_type": "code",
   "execution_count": 11,
   "metadata": {
    "collapsed": true
   },
   "outputs": [],
   "source": [
    "train1 = pd.read_csv('data/dataset1.csv')\n",
    "train2 = pd.read_csv('data/dataset2.csv')\n",
    "train = pd.concat([train1,train2],axis=0)\n",
    "train.to_csv('data/all_train.csv',index=None)\n",
    "test = pd.read_csv('data/dataset3.csv')\n",
    "test.to_csv('data/all_test.csv',index=None)"
   ]
  },
  {
   "cell_type": "code",
   "execution_count": 12,
   "metadata": {
    "collapsed": false
   },
   "outputs": [
    {
     "data": {
      "text/plain": [
       "(454039, 41)"
      ]
     },
     "execution_count": 12,
     "metadata": {},
     "output_type": "execute_result"
    }
   ],
   "source": [
    "train.shape"
   ]
  },
  {
   "cell_type": "code",
   "execution_count": 8,
   "metadata": {
    "collapsed": false
   },
   "outputs": [
    {
     "name": "stdout",
     "output_type": "stream",
     "text": [
      "<class 'pandas.core.frame.DataFrame'>\n",
      "Int64Index: 454039 entries, 0 to 297998\n",
      "Data columns (total 41 columns):\n",
      "Distance                                                    401502 non-null float64\n",
      "user_this_month_all_coupon_count                            454039 non-null int64\n",
      "user_this_day_all_coupon_count                              454039 non-null int64\n",
      "user_this_month_same_coupon_count                           454039 non-null int64\n",
      "user_coupon_first                                           454039 non-null int64\n",
      "user_coupon_last                                            454039 non-null int64\n",
      "user_this_day_same_coupon_count                             454039 non-null int64\n",
      "day_of_week                                                 454039 non-null int64\n",
      "is_weekend                                                  454039 non-null int64\n",
      "user_buy_count                                              454039 non-null int64\n",
      "user_received_count                                         454039 non-null int64\n",
      "user_buy_use_coupon_count                                   454039 non-null int64\n",
      "user_min_distance                                           36782 non-null float64\n",
      "user_max_distance                                           36782 non-null float64\n",
      "user_mean_distance                                          36782 non-null float64\n",
      "user_merchants_count                                        454039 non-null int64\n",
      "avg_user_date_datereceived_gap                              43680 non-null float64\n",
      "min_user_date_datereceived_gap                              43680 non-null float64\n",
      "max_user_date_datereceived_gap                              43680 non-null float64\n",
      "user_buy_use_coupon_rate                                    454039 non-null float64\n",
      "merchant_sales_count                                        454039 non-null int64\n",
      "merchant_coupon_count                                       454039 non-null int64\n",
      "merchant_coupon_used_count                                  454039 non-null int64\n",
      "merchant_min_distance                                       354577 non-null float64\n",
      "merchant_max_distance                                       354577 non-null float64\n",
      "merchant_mean_distance                                      354577 non-null float64\n",
      "avg_merchant_date_datereceived_gap                          359644 non-null float64\n",
      "min_merchant_date_datereceived_gap                          359644 non-null float64\n",
      "max_merchant_date_datereceived_gap                          359644 non-null float64\n",
      "merchant_coupon_used_rate                                   454039 non-null float64\n",
      "coupon_uesd_sales_rate                                      454039 non-null float64\n",
      "Discount_rate                                               454039 non-null float64\n",
      "discount_man                                                444516 non-null float64\n",
      "discount_jian                                               444516 non-null float64\n",
      "is_man_jian                                                 454039 non-null int64\n",
      "user_merchant_count                                         454039 non-null int64\n",
      "user_merchant_received_count                                454039 non-null int64\n",
      "user_merchant_buy_use_coupon_count                          454039 non-null int64\n",
      "user_merchant_buy_use_coupon_rate                           454039 non-null float64\n",
      "user_merchant_buy_use_coupon_of_user_buy_use_coupon_rate    454039 non-null float64\n",
      "label                                                       454039 non-null int64\n",
      "dtypes: float64(21), int64(20)\n",
      "memory usage: 145.5 MB\n"
     ]
    }
   ],
   "source": [
    "train.info()"
   ]
  },
  {
   "cell_type": "code",
   "execution_count": null,
   "metadata": {
    "collapsed": true
   },
   "outputs": [],
   "source": []
  }
 ],
 "metadata": {
  "anaconda-cloud": {},
  "kernelspec": {
   "display_name": "Python [default]",
   "language": "python",
   "name": "python2"
  },
  "language_info": {
   "codemirror_mode": {
    "name": "ipython",
    "version": 2
   },
   "file_extension": ".py",
   "mimetype": "text/x-python",
   "name": "python",
   "nbconvert_exporter": "python",
   "pygments_lexer": "ipython2",
   "version": "2.7.12"
  }
 },
 "nbformat": 4,
 "nbformat_minor": 0
}
