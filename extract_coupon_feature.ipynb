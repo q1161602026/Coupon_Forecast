{
 "cells": [
  {
   "cell_type": "code",
   "execution_count": 5,
   "metadata": {
    "collapsed": false
   },
   "outputs": [],
   "source": [
    "# import pandas as pd\n",
    "# import numpy as np\n",
    "# from config import *\n",
    "# from feature_extract import *\n",
    "# from datetime import date\n",
    "\n",
    "# def extract_coupon_feature(dataset_file_path,num):\n",
    "# \tprint '第{0}个样本提取'.format(num)\n",
    "# \tdataset = pd.read_csv(dataset_file_path)\n",
    "# \tcoupon = dataset[['Coupon_id']]\n",
    "# \tcoupon.drop_duplicates(inplace=True)\n",
    "\n",
    "# \tt1 = dataset[['Coupon_id','Discount_rate']]\n",
    "# \tt1.drop_duplicates(inplace=True)\n",
    "# \tt1['discount_man'] = t1.Discount_rate.apply(get_discount_man)\n",
    "# \tt1['discount_jian'] = t1.Discount_rate.apply(get_discount_jian)\n",
    "# \tt1['is_man_jian'] = t1.Discount_rate.apply(is_man_jian)\n",
    "# \tt1['Discount_per'] = t1.Discount_rate.apply(calc_discount_rate)\n",
    "\t\n",
    "# \tcoupon = pd.merge(coupon,t1,on='Coupon_id',how='left')\n",
    "\n",
    "# # \tcoupon.Discount_rate = coupon.Discount_rate.replace(np.nan,0)\n",
    "    \n",
    "# \tcoupon.to_csv('data/coupon{0}.csv'.format(num),index=None)\n",
    "    \n",
    "# for k,path in enumerate(processed_dataset_path):\n",
    "#     extract_coupon_feature(path,k+1)"
   ]
  },
  {
   "cell_type": "code",
   "execution_count": 6,
   "metadata": {
    "collapsed": false
   },
   "outputs": [],
   "source": [
    "# temp=pd.read_csv('data/coupon1.csv')\n",
    "# temp.head()"
   ]
  },
  {
   "cell_type": "code",
   "execution_count": null,
   "metadata": {
    "collapsed": true
   },
   "outputs": [],
   "source": []
  }
 ],
 "metadata": {
  "anaconda-cloud": {},
  "kernelspec": {
   "display_name": "Python [default]",
   "language": "python",
   "name": "python2"
  },
  "language_info": {
   "codemirror_mode": {
    "name": "ipython",
    "version": 2
   },
   "file_extension": ".py",
   "mimetype": "text/x-python",
   "name": "python",
   "nbconvert_exporter": "python",
   "pygments_lexer": "ipython2",
   "version": "2.7.12"
  }
 },
 "nbformat": 4,
 "nbformat_minor": 0
}
