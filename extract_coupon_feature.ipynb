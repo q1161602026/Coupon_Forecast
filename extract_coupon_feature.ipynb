{
 "cells": [
  {
   "cell_type": "code",
   "execution_count": 2,
   "metadata": {
    "collapsed": false
   },
   "outputs": [
    {
     "name": "stdout",
     "output_type": "stream",
     "text": [
      "第1个样本提取\n"
     ]
    },
    {
     "name": "stderr",
     "output_type": "stream",
     "text": [
      "/usr/local/Cellar/anaconda/lib/python2.7/site-packages/ipykernel/__main__.py:17: SettingWithCopyWarning: \n",
      "A value is trying to be set on a copy of a slice from a DataFrame.\n",
      "Try using .loc[row_indexer,col_indexer] = value instead\n",
      "\n",
      "See the caveats in the documentation: http://pandas.pydata.org/pandas-docs/stable/indexing.html#indexing-view-versus-copy\n",
      "/usr/local/Cellar/anaconda/lib/python2.7/site-packages/ipykernel/__main__.py:18: SettingWithCopyWarning: \n",
      "A value is trying to be set on a copy of a slice from a DataFrame.\n",
      "Try using .loc[row_indexer,col_indexer] = value instead\n",
      "\n",
      "See the caveats in the documentation: http://pandas.pydata.org/pandas-docs/stable/indexing.html#indexing-view-versus-copy\n",
      "/usr/local/Cellar/anaconda/lib/python2.7/site-packages/ipykernel/__main__.py:19: SettingWithCopyWarning: \n",
      "A value is trying to be set on a copy of a slice from a DataFrame.\n",
      "Try using .loc[row_indexer,col_indexer] = value instead\n",
      "\n",
      "See the caveats in the documentation: http://pandas.pydata.org/pandas-docs/stable/indexing.html#indexing-view-versus-copy\n",
      "/usr/local/Cellar/anaconda/lib/python2.7/site-packages/ipykernel/__main__.py:20: SettingWithCopyWarning: \n",
      "A value is trying to be set on a copy of a slice from a DataFrame.\n",
      "Try using .loc[row_indexer,col_indexer] = value instead\n",
      "\n",
      "See the caveats in the documentation: http://pandas.pydata.org/pandas-docs/stable/indexing.html#indexing-view-versus-copy\n",
      "/usr/local/Cellar/anaconda/lib/python2.7/site-packages/ipykernel/__main__.py:23: SettingWithCopyWarning: \n",
      "A value is trying to be set on a copy of a slice from a DataFrame.\n",
      "Try using .loc[row_indexer,col_indexer] = value instead\n",
      "\n",
      "See the caveats in the documentation: http://pandas.pydata.org/pandas-docs/stable/indexing.html#indexing-view-versus-copy\n"
     ]
    },
    {
     "name": "stdout",
     "output_type": "stream",
     "text": [
      "第2个样本提取\n",
      "第3个样本提取\n"
     ]
    }
   ],
   "source": [
    "import pandas as pd\n",
    "import numpy as np\n",
    "from config import *\n",
    "from feature_extract import *\n",
    "from datetime import date\n",
    "\n",
    "def extract_coupon_feature(feature_file_path,num):\n",
    "\tprint '第{0}个样本提取'.format(num)\n",
    "\tfeature = pd.read_csv(feature_file_path)\n",
    "\tfeature = feature[feature['Coupon_id']!='null']\n",
    "    \n",
    "\tcoupon = feature[['Coupon_id']]\n",
    "\tcoupon.drop_duplicates(inplace=True)\n",
    "\n",
    "\tt1 = feature[['Coupon_id','Discount_rate']]\n",
    "\tt1.drop_duplicates(inplace=True)\n",
    "\tt1['discount_man'] = t1.Discount_rate.apply(get_discount_man)\n",
    "\tt1['discount_jian'] = t1.Discount_rate.apply(get_discount_jian)\n",
    "\tt1['is_man_jian'] = t1.Discount_rate.apply(is_man_jian)\n",
    "\tt1['Discount_rate'] = t1.Discount_rate.apply(calc_discount_rate)\n",
    "\n",
    "\tt2 = feature[['Coupon_id']]\n",
    "\tt2['coupon_count'] = 1\n",
    "\tt2 = t2.groupby('Coupon_id').agg('sum').reset_index()\n",
    "\n",
    "\tcoupon = pd.merge(coupon,t1,on='Coupon_id',how='left')\n",
    "\tcoupon = pd.merge(coupon,t2,on='Coupon_id',how='left')\n",
    "\n",
    "\tcoupon.Discount_rate = coupon.Discount_rate.replace(np.nan,0)\n",
    "    \n",
    "\tcoupon.to_csv('data/coupon{0}.csv'.format(num),index=None)\n",
    "    \n",
    "for k,path in enumerate(processed_feature_path):\n",
    "    extract_coupon_feature(path,k+1)"
   ]
  },
  {
   "cell_type": "code",
   "execution_count": null,
   "metadata": {
    "collapsed": true
   },
   "outputs": [],
   "source": []
  }
 ],
 "metadata": {
  "anaconda-cloud": {},
  "kernelspec": {
   "display_name": "Python [default]",
   "language": "python",
   "name": "python2"
  },
  "language_info": {
   "codemirror_mode": {
    "name": "ipython",
    "version": 2
   },
   "file_extension": ".py",
   "mimetype": "text/x-python",
   "name": "python",
   "nbconvert_exporter": "python",
   "pygments_lexer": "ipython2",
   "version": "2.7.12"
  }
 },
 "nbformat": 4,
 "nbformat_minor": 0
}
