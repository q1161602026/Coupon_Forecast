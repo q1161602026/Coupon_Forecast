{
 "cells": [
  {
   "cell_type": "code",
   "execution_count": 1,
   "metadata": {
    "collapsed": false
   },
   "outputs": [
    {
     "name": "stdout",
     "output_type": "stream",
     "text": [
      "第1个样本提取\n"
     ]
    },
    {
     "name": "stderr",
     "output_type": "stream",
     "text": [
      "/usr/local/Cellar/anaconda/lib/python2.7/site-packages/pandas/util/decorators.py:91: SettingWithCopyWarning: \n",
      "A value is trying to be set on a copy of a slice from a DataFrame\n",
      "\n",
      "See the caveats in the documentation: http://pandas.pydata.org/pandas-docs/stable/indexing.html#indexing-view-versus-copy\n",
      "  return func(*args, **kwargs)\n"
     ]
    },
    {
     "name": "stdout",
     "output_type": "stream",
     "text": [
      "该商家的所有交易次数提取\n",
      "该商家的所有优惠券个数提取\n"
     ]
    },
    {
     "name": "stderr",
     "output_type": "stream",
     "text": [
      "/usr/local/Cellar/anaconda/lib/python2.7/site-packages/pandas/core/indexing.py:288: SettingWithCopyWarning: \n",
      "A value is trying to be set on a copy of a slice from a DataFrame.\n",
      "Try using .loc[row_indexer,col_indexer] = value instead\n",
      "\n",
      "See the caveats in the documentation: http://pandas.pydata.org/pandas-docs/stable/indexing.html#indexing-view-versus-copy\n",
      "  self.obj[key] = _infer_fill_value(value)\n",
      "/usr/local/Cellar/anaconda/lib/python2.7/site-packages/pandas/core/indexing.py:465: SettingWithCopyWarning: \n",
      "A value is trying to be set on a copy of a slice from a DataFrame.\n",
      "Try using .loc[row_indexer,col_indexer] = value instead\n",
      "\n",
      "See the caveats in the documentation: http://pandas.pydata.org/pandas-docs/stable/indexing.html#indexing-view-versus-copy\n",
      "  self.obj[item] = s\n"
     ]
    },
    {
     "name": "stdout",
     "output_type": "stream",
     "text": [
      "商家总的核销次数提取\n",
      "商家15天总的不核销次数提取\n",
      "商家被核销优惠券中的平均/最小/最大用户-商家距离\n",
      "第2个样本提取\n",
      "该商家的所有交易次数提取\n",
      "该商家的所有优惠券个数提取\n",
      "商家总的核销次数提取\n",
      "商家15天总的不核销次数提取\n",
      "商家被核销优惠券中的平均/最小/最大用户-商家距离\n",
      "第3个样本提取\n",
      "该商家的所有交易次数提取\n",
      "该商家的所有优惠券个数提取\n",
      "商家总的核销次数提取\n",
      "商家15天总的不核销次数提取\n",
      "商家被核销优惠券中的平均/最小/最大用户-商家距离\n"
     ]
    }
   ],
   "source": [
    "import pandas as pd\n",
    "import numpy as np\n",
    "from config import *\n",
    "from feature_extract import *\n",
    "from datetime import date\n",
    "\n",
    "def extract_merchant_feature(feature_file_path,num):\n",
    "\tprint '第{0}个样本提取'.format(num)\n",
    "\tfeature = pd.read_csv(feature_file_path)\n",
    "\n",
    "\tmerchant = feature[['Merchant_id']]\n",
    "\tmerchant.drop_duplicates(inplace=True)\n",
    "\n",
    "\t# 该商家的所有交易数\n",
    "\tt0 = merchant_sales_count(feature)\n",
    "\n",
    "\t# 该商家的所有优惠券个数\n",
    "\tt1 = merchant_coupon_count(feature)\n",
    "\n",
    "\t# 商家优惠券被领取后15天核销次数\n",
    "\tt2 = merchant_coupon_used_count(feature)\n",
    "\n",
    "\t# 商家优惠券被领取后15天不核销次数\n",
    "\tt3 = merchant_coupon_notused_count(feature)\n",
    "\n",
    "\t# 商家被核销优惠券中的平均/最小/最大用户-商家距离\n",
    "\tt4,t5,t6 = merchant_coupon_distance_count(feature)\n",
    "\n",
    "\t# 商家每种优惠券核销多少张\n",
    "\t# t7 = merchant_discount_type_used_count(feature)\n",
    "\tmerchant = pd.merge(merchant,t0,on='Merchant_id',how='left')\n",
    "\tmerchant = pd.merge(merchant,t1,on='Merchant_id',how='left')\n",
    "\tmerchant = pd.merge(merchant,t2,on='Merchant_id',how='left')\n",
    "\tmerchant = pd.merge(merchant,t3,on='Merchant_id',how='left')\n",
    "\tmerchant = pd.merge(merchant,t4,on='Merchant_id',how='left')\n",
    "\tmerchant = pd.merge(merchant,t5,on='Merchant_id',how='left')\n",
    "\tmerchant = pd.merge(merchant,t6,on='Merchant_id',how='left')\n",
    "\t# merchant=pd.merge(merchant,t7,on='Merchant_id',how='left')\n",
    "\n",
    "\t# # 商家被核销过的不同优惠券占所有核销领数量取的过的不同优惠券数量比重\n",
    "\t# merchant.loc[:,'merchant_coupontype_used_rate']=merchant.apply(cal_merchant_coupontype_used_rate,axis=1)\n",
    "\n",
    "\t# 商家优惠券被领取后核销率\n",
    "\tmerchant.loc[:,'merchant_coupon_used_rate'] = merchant.apply(cal_merchant_coupon_used_rate,axis=1)\n",
    "\tmerchant.merchant_coupon_used_rate = merchant.merchant_coupon_used_rate.replace(np.nan,0)\n",
    "\tmerchant.loc[:,'coupon_uesd_sales_rate'] = merchant.apply(cal_coupon_uesd_sales_rate,axis=1)\n",
    "\tmerchant.coupon_uesd_sales_rate = merchant.coupon_uesd_sales_rate.replace(np.nan,0)\n",
    "\tmerchant.merchant_coupon_count = merchant.merchant_coupon_count.replace(np.nan,0)\n",
    "\tmerchant.merchant_coupon_used_count = merchant.merchant_coupon_used_count.replace(np.nan,0)\n",
    "\tmerchant.merchant_coupon_notused_count = merchant.merchant_coupon_notused_count.replace(np.nan,0)\n",
    "\n",
    "\t# user_merchant = user_merchant[['Merchant_id','merchant_coupon_count','merchant_coupon_used_count','merchant_coupon_distance_count','merchant_coupontype_used_rate','merchant_coupon_used_rate']]\n",
    "\tmerchant.drop_duplicates(inplace=True)\n",
    "\tmerchant.to_csv('data/merchant{0}.csv'.format(num),index=None)\n",
    "    \n",
    "for k,path in enumerate(processed_feature_path):\n",
    "    extract_merchant_feature(path,k+1)"
   ]
  },
  {
   "cell_type": "code",
   "execution_count": null,
   "metadata": {
    "collapsed": true
   },
   "outputs": [],
   "source": []
  }
 ],
 "metadata": {
  "anaconda-cloud": {},
  "kernelspec": {
   "display_name": "Python [default]",
   "language": "python",
   "name": "python2"
  },
  "language_info": {
   "codemirror_mode": {
    "name": "ipython",
    "version": 2
   },
   "file_extension": ".py",
   "mimetype": "text/x-python",
   "name": "python",
   "nbconvert_exporter": "python",
   "pygments_lexer": "ipython2",
   "version": "2.7.12"
  }
 },
 "nbformat": 4,
 "nbformat_minor": 0
}
