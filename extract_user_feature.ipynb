{
 "cells": [
  {
   "cell_type": "code",
   "execution_count": 1,
   "metadata": {
    "collapsed": false,
    "scrolled": false
   },
   "outputs": [
    {
     "name": "stdout",
     "output_type": "stream",
     "text": [
      "第1个样本提取\n"
     ]
    },
    {
     "name": "stderr",
     "output_type": "stream",
     "text": [
      "/usr/local/Cellar/anaconda/lib/python2.7/site-packages/pandas/util/decorators.py:91: SettingWithCopyWarning: \n",
      "A value is trying to be set on a copy of a slice from a DataFrame\n",
      "\n",
      "See the caveats in the documentation: http://pandas.pydata.org/pandas-docs/stable/indexing.html#indexing-view-versus-copy\n",
      "  return func(*args, **kwargs)\n"
     ]
    },
    {
     "name": "stdout",
     "output_type": "stream",
     "text": [
      "用户领取所有优惠券个数提取\n"
     ]
    },
    {
     "name": "stderr",
     "output_type": "stream",
     "text": [
      "/usr/local/Cellar/anaconda/lib/python2.7/site-packages/pandas/core/indexing.py:288: SettingWithCopyWarning: \n",
      "A value is trying to be set on a copy of a slice from a DataFrame.\n",
      "Try using .loc[row_indexer,col_indexer] = value instead\n",
      "\n",
      "See the caveats in the documentation: http://pandas.pydata.org/pandas-docs/stable/indexing.html#indexing-view-versus-copy\n",
      "  self.obj[key] = _infer_fill_value(value)\n",
      "/usr/local/Cellar/anaconda/lib/python2.7/site-packages/pandas/core/indexing.py:465: SettingWithCopyWarning: \n",
      "A value is trying to be set on a copy of a slice from a DataFrame.\n",
      "Try using .loc[row_indexer,col_indexer] = value instead\n",
      "\n",
      "See the caveats in the documentation: http://pandas.pydata.org/pandas-docs/stable/indexing.html#indexing-view-versus-copy\n",
      "  self.obj[item] = s\n"
     ]
    },
    {
     "name": "stdout",
     "output_type": "stream",
     "text": [
      "用户领取该优惠券15天不核销次数提取\n",
      "用户15天总的核销次数提取\n",
      "用户核销距离提取\n",
      "用户交易过的商家数提取\n",
      "用户核销天数提取\n",
      "第2个样本提取\n",
      "用户领取所有优惠券个数提取\n",
      "用户领取该优惠券15天不核销次数提取\n",
      "用户15天总的核销次数提取\n",
      "用户核销距离提取\n",
      "用户交易过的商家数提取\n",
      "用户核销天数提取\n",
      "第3个样本提取\n",
      "用户领取所有优惠券个数提取\n",
      "用户领取该优惠券15天不核销次数提取\n",
      "用户15天总的核销次数提取\n",
      "用户核销距离提取\n",
      "用户交易过的商家数提取\n",
      "用户核销天数提取\n"
     ]
    }
   ],
   "source": [
    "import pandas as pd\n",
    "import numpy as np\n",
    "from config import *\n",
    "from feature_extract import *\n",
    "from datetime import date\n",
    "\n",
    "def extract_user_feature(feature_file_path,num):\n",
    "\tprint '第{0}个样本提取'.format(num)\n",
    "\tfeature = pd.read_csv(feature_file_path)\n",
    "\tfeature.drop_duplicates(inplace=True)\n",
    "\n",
    "\tuser = feature[['User_id']]\n",
    "\tuser.drop_duplicates(inplace=True)\n",
    "\n",
    "\t# 用户领取优惠券次数\n",
    "\tt1 = user_received_count(feature)\n",
    "\n",
    "\t# 用户15天总的不核销次数\n",
    "\tt2 = user_notuse_coupon_count(feature)\n",
    "\n",
    "\t# 用户15天总的核销次数\n",
    "\tt3 = user_buy_use_coupon_count(feature)\n",
    "\n",
    "\t# # 用户满0~50/50~200/200~500 减的优惠券核销数\n",
    "\t# t4 = user_discount_type_use_count(feature)\n",
    "\t\n",
    "\t# 用户核销优惠券中的平均/最大/最小用户-商家距离\n",
    "\tt5,t6,t7 = user_merchant_use_coupon_distance(feature)\n",
    "\n",
    "\tt8 = user_merchant_count(feature)\n",
    "\n",
    "\tt9,t10,t11=user_date_datereceived_gap(feature)\n",
    "\n",
    "\tuser = pd.merge(user,t1,on=['User_id'],how='left')\n",
    "\tuser = pd.merge(user,t2,on=['User_id'],how='left')\n",
    "\tuser = pd.merge(user,t3,on=['User_id'],how='left')\n",
    "\tuser = pd.merge(user,t5,on=['User_id'],how='left')\n",
    "\tuser = pd.merge(user,t6,on=['User_id'],how='left')\n",
    "\tuser = pd.merge(user,t7,on=['User_id'],how='left')\n",
    "\tuser = pd.merge(user,t8,on=['User_id'],how='left')\n",
    "\tuser = pd.merge(user,t9,on=['User_id'],how='left')\n",
    "\tuser = pd.merge(user,t10,on=['User_id'],how='left')\n",
    "\tuser = pd.merge(user,t11,on=['User_id'],how='left')\n",
    "\n",
    "\n",
    "\t# 用户核销满0~50/50~200/200~500减的优惠券占所有核销优惠券的比重\n",
    "\t# user.loc[:,'user_discount_type_use_of_all_use_rate']=user.apply(cal_user_discount_type_use_of_all_use_rate,axis=1)\n",
    "\tuser.user_buy_use_coupon_count = user.user_buy_use_coupon_count.replace(np.nan,0)\n",
    "\tuser['user_buy_use_coupon_rate'] = user.user_buy_use_coupon_count.astype('float') / (user.user_buy_use_coupon_count.astype('float') +user.user_notuse_coupon_count.astype('float'))\n",
    "\tuser['user_coupon_transfer_rate'] = user.user_buy_use_coupon_count.astype('float') / user.user_received_count.astype('float')\n",
    "\tuser.user_coupon_transfer_rate = user.user_coupon_transfer_rate.replace(np.nan,0)\n",
    "\tuser.user_received_count = user.user_received_count.replace(np.nan,0)\n",
    "\tuser.user_notuse_coupon_count = user.user_notuse_coupon_count.replace(np.nan,0)\n",
    "\tuser.user_buy_use_coupon_count = user.user_buy_use_coupon_count.replace(np.nan,0)\n",
    "\tuser.user_buy_use_coupon_rate = user.user_buy_use_coupon_rate.replace(np.nan,0)\n",
    "\tuser.drop_duplicates(inplace=True)\n",
    "\tuser.to_csv('data/user{0}.csv'.format(num),index=None)\n",
    "    \n",
    "for k,path in enumerate(processed_feature_path):\n",
    "    extract_user_feature(path,k+1)"
   ]
  },
  {
   "cell_type": "code",
   "execution_count": null,
   "metadata": {
    "collapsed": true
   },
   "outputs": [],
   "source": [
    "user"
   ]
  }
 ],
 "metadata": {
  "anaconda-cloud": {},
  "kernelspec": {
   "display_name": "Python [default]",
   "language": "python",
   "name": "python2"
  },
  "language_info": {
   "codemirror_mode": {
    "name": "ipython",
    "version": 2
   },
   "file_extension": ".py",
   "mimetype": "text/x-python",
   "name": "python",
   "nbconvert_exporter": "python",
   "pygments_lexer": "ipython2",
   "version": "2.7.12"
  }
 },
 "nbformat": 4,
 "nbformat_minor": 0
}
