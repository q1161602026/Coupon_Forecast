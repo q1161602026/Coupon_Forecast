{
 "cells": [
  {
   "cell_type": "code",
   "execution_count": 1,
   "metadata": {
    "collapsed": false
   },
   "outputs": [
    {
     "name": "stdout",
     "output_type": "stream",
     "text": [
      "第1个样本提取\n"
     ]
    },
    {
     "name": "stderr",
     "output_type": "stream",
     "text": [
      "/usr/local/Cellar/anaconda/lib/python2.7/site-packages/pandas/util/decorators.py:91: SettingWithCopyWarning: \n",
      "A value is trying to be set on a copy of a slice from a DataFrame\n",
      "\n",
      "See the caveats in the documentation: http://pandas.pydata.org/pandas-docs/stable/indexing.html#indexing-view-versus-copy\n",
      "  return func(*args, **kwargs)\n"
     ]
    },
    {
     "name": "stdout",
     "output_type": "stream",
     "text": [
      "用户领取该商家的所有优惠券个数提取\n"
     ]
    },
    {
     "name": "stderr",
     "output_type": "stream",
     "text": [
      "/usr/local/Cellar/anaconda/lib/python2.7/site-packages/pandas/core/indexing.py:288: SettingWithCopyWarning: \n",
      "A value is trying to be set on a copy of a slice from a DataFrame.\n",
      "Try using .loc[row_indexer,col_indexer] = value instead\n",
      "\n",
      "See the caveats in the documentation: http://pandas.pydata.org/pandas-docs/stable/indexing.html#indexing-view-versus-copy\n",
      "  self.obj[key] = _infer_fill_value(value)\n",
      "/usr/local/Cellar/anaconda/lib/python2.7/site-packages/pandas/core/indexing.py:465: SettingWithCopyWarning: \n",
      "A value is trying to be set on a copy of a slice from a DataFrame.\n",
      "Try using .loc[row_indexer,col_indexer] = value instead\n",
      "\n",
      "See the caveats in the documentation: http://pandas.pydata.org/pandas-docs/stable/indexing.html#indexing-view-versus-copy\n",
      "  self.obj[item] = s\n"
     ]
    },
    {
     "name": "stdout",
     "output_type": "stream",
     "text": [
      "用户领取该商家优惠券15天核销次数提取\n",
      "用户15天总的核销次数提取\n",
      "用户领取该商家的优惠券核销率提取\n",
      "用户对每个商家的核销次数占用户总的核销次数的比重提取\n",
      "第2个样本提取\n",
      "用户领取该商家的所有优惠券个数提取\n",
      "用户领取该商家优惠券15天核销次数提取\n",
      "用户15天总的核销次数提取\n",
      "用户领取该商家的优惠券核销率提取\n",
      "用户对每个商家的核销次数占用户总的核销次数的比重提取\n",
      "第3个样本提取\n",
      "用户领取该商家的所有优惠券个数提取\n",
      "用户领取该商家优惠券15天核销次数提取\n",
      "用户15天总的核销次数提取\n",
      "用户领取该商家的优惠券核销率提取\n",
      "用户对每个商家的核销次数占用户总的核销次数的比重提取\n"
     ]
    }
   ],
   "source": [
    "#!/usr/bin/python \n",
    "#-*- coding: UTF-8 -*-   \n",
    "\n",
    "import pandas as pd\n",
    "import numpy as np\n",
    "from config import *\n",
    "from feature_extract import *\n",
    "from datetime import date\n",
    "\n",
    "def extract_user_merchant_feature(feature_file_path,num):\n",
    "\tprint '第{0}个样本提取'.format(num)\n",
    "\tfeature = pd.read_csv(feature_file_path)\n",
    "\n",
    "\tuser_merchant = feature[['User_id','Merchant_id']]\n",
    "\tuser_merchant.drop_duplicates(inplace=True)\n",
    "\n",
    "\t# 用户领取该商家的所有优惠券个数\n",
    "\tt1 = user_merchant_received_count(feature)\n",
    "\n",
    "\t# 用户领取该商家优惠券15天核销次数\n",
    "\tt2 = user_merchant_buy_use_coupon_count(feature)\n",
    "\n",
    "\t# 用户15天总的核销次数(no)\n",
    "\tt5 = user_buy_use_coupon_count(feature)\n",
    "\n",
    "\n",
    "\tuser_merchant = pd.merge(user_merchant,t1,on=['User_id','Merchant_id'],how='left')\n",
    "\tuser_merchant = pd.merge(user_merchant,t2,on=['User_id','Merchant_id'],how='left')\n",
    "\tuser_merchant = pd.merge(user_merchant,t5,on=['User_id'],how='left')\n",
    "\n",
    "\t# 用户领取该商家的优惠券核销率\n",
    "\tuser_merchant.loc[:,'user_merchant_buy_use_coupon_rate'] = user_merchant.apply(cal_user_merchant_buy_use_coupon_rate,axis=1)\n",
    "\tprint '用户领取该商家的优惠券核销率提取'\n",
    "\t\n",
    "\t# 用户对每个商家的核销次数占用户总的核销次数的比重\n",
    "\tuser_merchant.loc[:,'user_merchant_buy_use_coupon_of_user_buy_use_coupon_rate'] = user_merchant.apply(cal_user_merchant_buy_use_coupon_of_user_buy_use_coupon_rate,axis=1)\n",
    "\tprint '用户对每个商家的核销次数占用户总的核销次数的比重提取'\n",
    "\n",
    "\tuser_merchant = user_merchant[['User_id','Merchant_id','user_merchant_received_count','user_merchant_buy_use_coupon_count','user_merchant_buy_use_coupon_rate','user_merchant_buy_use_coupon_of_user_buy_use_coupon_rate']]\n",
    "\tuser_merchant.user_merchant_received_count = user_merchant.user_merchant_received_count.replace(np.nan,0)\n",
    "\tuser_merchant.user_merchant_buy_use_coupon_count = user_merchant.user_merchant_buy_use_coupon_count.replace(np.nan,0)\n",
    "\tuser_merchant.user_merchant_buy_use_coupon_rate = user_merchant.user_merchant_buy_use_coupon_rate.replace(np.nan,0)\n",
    "\tuser_merchant.user_merchant_buy_use_coupon_of_user_buy_use_coupon_rate = user_merchant.user_merchant_buy_use_coupon_of_user_buy_use_coupon_rate.replace(np.nan,0)\n",
    "\n",
    "\tuser_merchant.to_csv('data/user_merchant{0}.csv'.format(num),index=None)\n",
    "\n",
    "for k,path in enumerate(processed_feature_path):\n",
    "    extract_user_merchant_feature(path,k+1)"
   ]
  },
  {
   "cell_type": "code",
   "execution_count": null,
   "metadata": {
    "collapsed": true
   },
   "outputs": [],
   "source": []
  }
 ],
 "metadata": {
  "anaconda-cloud": {},
  "kernelspec": {
   "display_name": "Python [default]",
   "language": "python",
   "name": "python2"
  },
  "language_info": {
   "codemirror_mode": {
    "name": "ipython",
    "version": 2
   },
   "file_extension": ".py",
   "mimetype": "text/x-python",
   "name": "python",
   "nbconvert_exporter": "python",
   "pygments_lexer": "ipython2",
   "version": "2.7.12"
  }
 },
 "nbformat": 4,
 "nbformat_minor": 0
}
