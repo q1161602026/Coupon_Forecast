{
 "cells": [
  {
   "cell_type": "code",
   "execution_count": 1,
   "metadata": {
    "collapsed": false
   },
   "outputs": [],
   "source": [
    "from config import *\n",
    "import pandas as pd\n",
    "\n",
    "def train_test_split():\n",
    "\t\n",
    "\toffline_train=pd.read_csv(offline_train_file_path,dtype=columns_type)\n",
    "\toffline_test=pd.read_csv(offline_test_file_path,dtype=columns_type)\n",
    "\n",
    "\tfeature1,feature2,test_feature=[offline_train[((offline_train['Date']!='null')&(offline_train['Date']>=x['feature_start_time'])&(offline_train['Date']<=x['feature_end_time']))|((offline_train['Date']=='null')&(offline_train['Date_received']>=x['feature_start_time'])&(offline_train['Date_received']<=x['feature_end_time']))] for x in feature_train_teat_split]\n",
    "\n",
    "\tdataset1,dataset2=[offline_train[(offline_train['Date_received']!='null')&(offline_train['Date_received']>=x['dataset_start_time'])&(offline_train['Date_received']<=x['dataset_end_time'])] for x in dataset_train_test_split]\n",
    "\ttest_dataset=offline_test\n",
    "\n",
    "\tfor k,x in enumerate([feature1,feature2,test_feature]):\n",
    "\t\tx.to_csv(processed_feature_path[k],index=None)\n",
    "\n",
    "\n",
    "\tfor k,x in enumerate([dataset1,dataset2,test_dataset]):\n",
    "\t\tx.to_csv(processed_dataset_path[k],index=None)\n",
    "        \n",
    "train_test_split()"
   ]
  },
  {
   "cell_type": "code",
   "execution_count": null,
   "metadata": {
    "collapsed": true
   },
   "outputs": [],
   "source": []
  }
 ],
 "metadata": {
  "anaconda-cloud": {},
  "kernelspec": {
   "display_name": "Python [default]",
   "language": "python",
   "name": "python2"
  },
  "language_info": {
   "codemirror_mode": {
    "name": "ipython",
    "version": 2
   },
   "file_extension": ".py",
   "mimetype": "text/x-python",
   "name": "python",
   "nbconvert_exporter": "python",
   "pygments_lexer": "ipython2",
   "version": "2.7.12"
  }
 },
 "nbformat": 4,
 "nbformat_minor": 0
}
