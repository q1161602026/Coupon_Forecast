{
 "cells": [
  {
   "cell_type": "code",
   "execution_count": 1,
   "metadata": {
    "collapsed": false
   },
   "outputs": [
    {
     "name": "stdout",
     "output_type": "stream",
     "text": [
      "第1个样本提取\n",
      "用户该月收到coupon数提取\n",
      "用户该天收到coupon数提取\n",
      "第2个样本提取\n",
      "用户该月收到coupon数提取\n",
      "用户该天收到coupon数提取\n",
      "第3个样本提取\n",
      "用户该月收到coupon数提取\n",
      "用户该天收到coupon数提取\n"
     ]
    }
   ],
   "source": [
    "import pandas as pd\n",
    "import numpy as np\n",
    "from config import *\n",
    "from feature_extract import *\n",
    "from datetime import date\n",
    "\n",
    "def extract_other_feature(dataset_file_path,num):\n",
    "\tprint '第{0}个样本提取'.format(num)\n",
    "\tother_feature = pd.read_csv(dataset_file_path)\n",
    "\tother_feature.drop_duplicates(inplace=True)\n",
    "\n",
    "\t# other_feature = dataset[dataset['Date_received']!='null']\n",
    "\n",
    "\tother_feature['day_of_week'] = other_feature.Date_received.astype('str').apply(lambda x:date(int(x[0:4]),int(x[4:6]),int(x[6:8])).weekday()+1 if x!='null' else 'null')\n",
    "\tother_feature['day_of_month'] = other_feature.Date_received.astype('str').apply(lambda x:int(x[6:8]) if x!='null' else 'null')\n",
    "\tother_feature['is_weekend'] = other_feature.day_of_week.apply(lambda x:1 if x in (6,7) else 0 if x!='null' else 'null')\n",
    "\n",
    "\tt1 = user_this_month_all_coupon_count(other_feature)\n",
    "\tt2 = user_this_day_all_coupon_count(other_feature)\n",
    "\n",
    "\t# other_feature = pd.merge(dataset,other_feature)\n",
    "\tother_feature = pd.merge(other_feature,t1,on='User_id')\n",
    "\tother_feature = pd.merge(other_feature,t2,on=['User_id','Date_received'])\n",
    "\tother_feature = other_feature.drop(['Discount_rate'],axis=1)\n",
    "\tother_feature.to_csv('data/other_feature{0}.csv'.format(num),index=None)\n",
    "    \n",
    "for k,path in enumerate(processed_dataset_path):\n",
    "    extract_other_feature(path,k+1)"
   ]
  },
  {
   "cell_type": "code",
   "execution_count": 4,
   "metadata": {
    "collapsed": false
   },
   "outputs": [
    {
     "data": {
      "text/html": [
       "<div>\n",
       "<table border=\"1\" class=\"dataframe\">\n",
       "  <thead>\n",
       "    <tr style=\"text-align: right;\">\n",
       "      <th></th>\n",
       "      <th>User_id</th>\n",
       "      <th>Merchant_id</th>\n",
       "      <th>Coupon_id</th>\n",
       "      <th>Distance</th>\n",
       "      <th>Date_received</th>\n",
       "      <th>day_of_week</th>\n",
       "      <th>day_of_month</th>\n",
       "      <th>is_weekend</th>\n",
       "      <th>user_this_month_all_coupon_count</th>\n",
       "      <th>user_this_day_all_coupon_count</th>\n",
       "    </tr>\n",
       "  </thead>\n",
       "  <tbody>\n",
       "    <tr>\n",
       "      <th>0</th>\n",
       "      <td>4129537</td>\n",
       "      <td>450</td>\n",
       "      <td>9983</td>\n",
       "      <td>1</td>\n",
       "      <td>20160712</td>\n",
       "      <td>2</td>\n",
       "      <td>12</td>\n",
       "      <td>0</td>\n",
       "      <td>1</td>\n",
       "      <td>1</td>\n",
       "    </tr>\n",
       "    <tr>\n",
       "      <th>1</th>\n",
       "      <td>6949378</td>\n",
       "      <td>1300</td>\n",
       "      <td>3429</td>\n",
       "      <td>null</td>\n",
       "      <td>20160706</td>\n",
       "      <td>3</td>\n",
       "      <td>6</td>\n",
       "      <td>0</td>\n",
       "      <td>1</td>\n",
       "      <td>1</td>\n",
       "    </tr>\n",
       "    <tr>\n",
       "      <th>2</th>\n",
       "      <td>2166529</td>\n",
       "      <td>7113</td>\n",
       "      <td>6928</td>\n",
       "      <td>5</td>\n",
       "      <td>20160727</td>\n",
       "      <td>3</td>\n",
       "      <td>27</td>\n",
       "      <td>0</td>\n",
       "      <td>2</td>\n",
       "      <td>2</td>\n",
       "    </tr>\n",
       "    <tr>\n",
       "      <th>3</th>\n",
       "      <td>2166529</td>\n",
       "      <td>7113</td>\n",
       "      <td>1808</td>\n",
       "      <td>5</td>\n",
       "      <td>20160727</td>\n",
       "      <td>3</td>\n",
       "      <td>27</td>\n",
       "      <td>0</td>\n",
       "      <td>2</td>\n",
       "      <td>2</td>\n",
       "    </tr>\n",
       "    <tr>\n",
       "      <th>4</th>\n",
       "      <td>6172162</td>\n",
       "      <td>7605</td>\n",
       "      <td>6500</td>\n",
       "      <td>2</td>\n",
       "      <td>20160708</td>\n",
       "      <td>5</td>\n",
       "      <td>8</td>\n",
       "      <td>0</td>\n",
       "      <td>1</td>\n",
       "      <td>1</td>\n",
       "    </tr>\n",
       "  </tbody>\n",
       "</table>\n",
       "</div>"
      ],
      "text/plain": [
       "   User_id  Merchant_id  Coupon_id Distance  Date_received  day_of_week  \\\n",
       "0  4129537          450       9983        1       20160712            2   \n",
       "1  6949378         1300       3429     null       20160706            3   \n",
       "2  2166529         7113       6928        5       20160727            3   \n",
       "3  2166529         7113       1808        5       20160727            3   \n",
       "4  6172162         7605       6500        2       20160708            5   \n",
       "\n",
       "   day_of_month  is_weekend  user_this_month_all_coupon_count  \\\n",
       "0            12           0                                 1   \n",
       "1             6           0                                 1   \n",
       "2            27           0                                 2   \n",
       "3            27           0                                 2   \n",
       "4             8           0                                 1   \n",
       "\n",
       "   user_this_day_all_coupon_count  \n",
       "0                               1  \n",
       "1                               1  \n",
       "2                               2  \n",
       "3                               2  \n",
       "4                               1  "
      ]
     },
     "execution_count": 4,
     "metadata": {},
     "output_type": "execute_result"
    }
   ],
   "source": [
    "temp=pd.read_csv('data/other_feature3.csv')\n",
    "temp.head()"
   ]
  },
  {
   "cell_type": "code",
   "execution_count": 5,
   "metadata": {
    "collapsed": false
   },
   "outputs": [
    {
     "name": "stdout",
     "output_type": "stream",
     "text": [
      "<class 'pandas.core.frame.DataFrame'>\n",
      "RangeIndex: 112803 entries, 0 to 112802\n",
      "Data columns (total 10 columns):\n",
      "User_id                             112803 non-null int64\n",
      "Merchant_id                         112803 non-null int64\n",
      "Coupon_id                           112803 non-null int64\n",
      "Distance                            112803 non-null object\n",
      "Date_received                       112803 non-null int64\n",
      "day_of_week                         112803 non-null int64\n",
      "day_of_month                        112803 non-null int64\n",
      "is_weekend                          112803 non-null int64\n",
      "user_this_month_all_coupon_count    112803 non-null int64\n",
      "user_this_day_all_coupon_count      112803 non-null int64\n",
      "dtypes: int64(9), object(1)\n",
      "memory usage: 8.6+ MB\n"
     ]
    }
   ],
   "source": [
    "temp.info()"
   ]
  },
  {
   "cell_type": "code",
   "execution_count": null,
   "metadata": {
    "collapsed": true
   },
   "outputs": [],
   "source": []
  }
 ],
 "metadata": {
  "anaconda-cloud": {},
  "kernelspec": {
   "display_name": "Python [default]",
   "language": "python",
   "name": "python2"
  },
  "language_info": {
   "codemirror_mode": {
    "name": "ipython",
    "version": 2
   },
   "file_extension": ".py",
   "mimetype": "text/x-python",
   "name": "python",
   "nbconvert_exporter": "python",
   "pygments_lexer": "ipython2",
   "version": "2.7.12"
  }
 },
 "nbformat": 4,
 "nbformat_minor": 0
}
